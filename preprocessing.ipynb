{
  "cells": [
    {
      "cell_type": "markdown",
      "id": "38be96d4",
      "metadata": {},
      "source": [
        "### Files einlesen"
      ]
    },
    {
      "cell_type": "code",
      "execution_count": 1,
      "id": "EMFSsMHvE7-h",
      "metadata": {
        "colab": {
          "base_uri": "https://localhost:8080/"
        },
        "id": "EMFSsMHvE7-h",
        "outputId": "4bd58256-e65e-4e54-d923-37653453847d"
      },
      "outputs": [
        {
          "name": "stdout",
          "output_type": "stream",
          "text": [
            "Number of images in folder 1: 2548\n",
            "Number of images in folder 2: 652\n"
          ]
        }
      ],
      "source": [
        "import os\n",
        "\n",
        "def rename_folder(old_name, new_name):\n",
        "    os.rename(old_name, new_name)\n",
        "\n",
        "os.rename('./final/n', './final/forest temp')\n",
        "os.rename('./final/y', './final/living area')\n",
        "\n",
        "# Pfad zu den beiden Ordnern\n",
        "folder1 = './final/forest temp'\n",
        "folder2 = './final/living area'\n",
        "\n",
        "# Zählen Initialisierung\n",
        "num_images_folder1 = 0\n",
        "num_images_folder2 = 0\n",
        "\n",
        "# Iterierung durch Bilder\n",
        "for filename in os.listdir(folder1):\n",
        "  if filename.endswith('.jpg') or filename.endswith('.png'):\n",
        "    num_images_folder1 += 1\n",
        "\n",
        "for filename in os.listdir(folder2):\n",
        "  if filename.endswith('.jpg') or filename.endswith('.png'):\n",
        "    num_images_folder2 += 1\n",
        "\n",
        "print('Number of images in folder 1:', num_images_folder1)\n",
        "print('Number of images in folder 2:', num_images_folder2)\n"
      ]
    },
    {
      "cell_type": "code",
      "execution_count": 2,
      "id": "0JQ26iGsFlJ_",
      "metadata": {
        "id": "0JQ26iGsFlJ_"
      },
      "outputs": [],
      "source": [
        "\n",
        "import os\n",
        "import random\n",
        "\n",
        "# Pfad für neue Ordner\n",
        "folder1 = './final/forest temp'\n",
        "folder2 = './final/forest'\n",
        "\n",
        "# Neue Ordner kreiieren\n",
        "if not os.path.exists(folder2):\n",
        "  os.makedirs(folder2)\n",
        "\n",
        "# Liste machen aus Ordner 1\n",
        "images = os.listdir(folder1)\n",
        "\n",
        "selected_images = random.sample(images, 700)\n",
        "\n",
        "# Bilder in neuen Ordner einfügen\n",
        "for image in selected_images:\n",
        "  src = os.path.join(folder1, image)\n",
        "  dst = os.path.join(folder2, image)\n",
        "  os.rename(src, dst)\n"
      ]
    },
    {
      "cell_type": "markdown",
      "id": "f6a861b4-07d1-40a5-a903-a411d538be99",
      "metadata": {
        "id": "f6a861b4-07d1-40a5-a903-a411d538be99"
      },
      "source": [
        "### Dataset Split"
      ]
    },
    {
      "cell_type": "code",
      "execution_count": 3,
      "id": "m1z3H5pgyBHG",
      "metadata": {
        "id": "m1z3H5pgyBHG"
      },
      "outputs": [],
      "source": [
        "import os\n",
        "import random\n",
        "import shutil\n",
        "random.seed(0)\n",
        "\n",
        "def split_images(source_folder, train_folder, test_folder, class_folders, train_ratio=0.8):\n",
        "    # dataset split Ordner kreiieren\n",
        "    if not os.path.exists('dataset split'):\n",
        "        os.makedirs('dataset split')\n",
        "    # train and test Ordner kreiieren\n",
        "    if not os.path.exists(train_folder):\n",
        "        os.makedirs(train_folder)\n",
        "    if not os.path.exists(test_folder):\n",
        "        os.makedirs(test_folder)\n",
        "\n",
        "    # Loop durch jeden Ordner\n",
        "    for class_folder in os.listdir(source_folder):\n",
        "        if class_folder in class_folders:  \n",
        "            class_path = os.path.join(source_folder, class_folder)\n",
        "            if os.path.isdir(class_path):\n",
        "                train_class_path = os.path.join(train_folder, class_folder)\n",
        "                test_class_path = os.path.join(test_folder, class_folder)\n",
        "\n",
        "                # Class Ordner in train und test Ordner kreiieren\n",
        "                if not os.path.exists(train_class_path):\n",
        "                    os.makedirs(train_class_path)\n",
        "                if not os.path.exists(test_class_path):\n",
        "                    os.makedirs(test_class_path)\n",
        "\n",
        "                # Liste mit Bilder in class Ordner machen\n",
        "                images = os.listdir(class_path)\n",
        "                random.shuffle(images)\n",
        "\n",
        "                # Bilder in test und train sets splitten\n",
        "                num_train = int(len(images) * train_ratio)\n",
        "                train_images = images[:num_train]\n",
        "                test_images = images[num_train:]\n",
        "\n",
        "                # Bilder in train Ordner kopieren\n",
        "                for image in train_images:\n",
        "                    src = os.path.join(class_path, image)\n",
        "                    dst = os.path.join(train_class_path, image)\n",
        "                    shutil.copy(src, dst)\n",
        "\n",
        "                # Bilder in test Ordner kopieren\n",
        "                for image in test_images:\n",
        "                    src = os.path.join(class_path, image)\n",
        "                    dst = os.path.join(test_class_path, image)\n",
        "                    shutil.copy(src, dst)\n",
        "\n",
        "# Example usage:\n",
        "source_folder = \"./final/\"\n",
        "train_folder = \"./dataset split/train/\"\n",
        "test_folder = \"./dataset split/test/\"\n",
        "desired_class_folders = ['forest', 'living area']\n",
        "split_images(source_folder, train_folder, test_folder, desired_class_folders)\n"
      ]
    }
  ],
  "metadata": {
    "colab": {
      "provenance": []
    },
    "kernelspec": {
      "display_name": "Python 3 (ipykernel)",
      "language": "python",
      "name": "python3"
    },
    "language_info": {
      "codemirror_mode": {
        "name": "ipython",
        "version": 3
      },
      "file_extension": ".py",
      "mimetype": "text/x-python",
      "name": "python",
      "nbconvert_exporter": "python",
      "pygments_lexer": "ipython3",
      "version": "3.9.7"
    }
  },
  "nbformat": 4,
  "nbformat_minor": 5
}
